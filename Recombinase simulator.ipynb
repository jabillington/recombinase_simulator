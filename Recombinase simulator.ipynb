{
 "cells": [
  {
   "cell_type": "code",
   "execution_count": 1,
   "metadata": {},
   "outputs": [],
   "source": [
    "\n",
    "####################################\n",
    "### Recombination site detector ####\n",
    "####################################\n",
    "\n",
    "\n",
    "import Bio.GenBank\n",
    "from Bio import SeqIO\n",
    "from Bio.Seq import Seq\n",
    "from Bio.SeqRecord import SeqRecord\n",
    "import os \n",
    "import sys\n",
    "import re"
   ]
  },
  {
   "cell_type": "code",
   "execution_count": 1,
   "metadata": {},
   "outputs": [
    {
     "data": {
      "text/plain": [
       "[{'dinucleotide': 'AA',\n",
       "  'orientation': 'forward',\n",
       "  'position': 5090,\n",
       "  'recombinase': 'phiC31',\n",
       "  'type': 'attB'},\n",
       " {'dinucleotide': 'AA',\n",
       "  'orientation': 'forward',\n",
       "  'position': 88,\n",
       "  'recombinase': 'phiC31',\n",
       "  'type': 'attP'}]"
      ]
     },
     "execution_count": 1,
     "metadata": {},
     "output_type": "execute_result"
    }
   ],
   "source": [
    "\n",
    "\n",
    "\n",
    "\n",
    "a = SeqIO.read('landing-pad-2-0- (1).gb', \"genbank\")\n",
    "\n",
    "b = SeqIO.read('d091_mscapuro-attp.gb', \"genbank\")\n",
    "\n",
    "\n",
    "def detect_recombinase_sites(input):\n",
    "    name=input.seq\n",
    "    total_out=[]\n",
    "    \n",
    "\n",
    "    \n",
    "# Recombination sites for the supported recombinases\n",
    "phic31={\"attP\" : \"ACGCCCCCAACTGAGAGAACTCG\",\n",
    "        \"attB\" : \"GGAGTACGCGCCCGGGGAGCCC\",\n",
    "        \"enzyme_name\":\"phiC31\"}\n",
    "\n",
    "bxb1={\"attB\":\"TCGGCCGGCTTGTCGACGACGGCG\",\n",
    "      \"attP\":\"GTCGTGGTTTGTCTGGTCAACCACCGCG\",\n",
    "      \"enzyme_name\":\"Bxb1\"}  \n",
    "    \n",
    "    \n",
    "    \n",
    "    \n",
    "    \n",
    "# List of the recombinases that are currently supported\n",
    "    recombinase_list=[phic31,bxb1]\n",
    "    list_out=[]\n",
    "    for recombinase in recombinase_list:\n",
    "        \n",
    "        for key in recombinase:\n",
    "            for m in re.finditer(str(recombinase[key]),str(name)):\n",
    "                central_dinucleotide=str(name[m.end():m.end()+2])\n",
    "                info={'recombinase':recombinase['enzyme_name'],'orientation':'forward','position':(m.end()+2),\n",
    "                      'dinucleotide':central_dinucleotide,'type':key}\n",
    "                list_out.append(info)\n",
    "                # Searches for a half recombination sites in the forward orientation\n",
    "        for key in recombinase:\n",
    "            for m in re.finditer(str((Seq(recombinase[key])).reverse_complement()),str(name)):\n",
    "                central_dinucleotide=str(name[m.start()-2:m.start()].reverse_complement())\n",
    "                info={'recombinase':recombinase['enzyme_name'],'orientation':'reverse',\n",
    "                    'position':(m.start()-2),'dinucleotide':central_dinucleotide,'type':key}\n",
    "                list_out.append(info)\n",
    "                # Serarches for a half recombination site in the reverse orientation \n",
    "    total_out.append(list_out)\n",
    "\n",
    "    return(total_out)\n",
    "\n",
    "        \n",
    "\n",
    "total_sites=detect_recombinase_sites(a)+detect_recombinase_sites(b)\n",
    "\n",
    "pair=[]\n",
    "outputs=[]\n",
    "seen=set()\n",
    "for items in total_sites:\n",
    "    for key in items:\n",
    "        if key['dinucleotide'] in seen:\n",
    "            pair.append(key['dinucleotide'])\n",
    "        else :\n",
    "            seen.add(key['dinucleotide'])\n",
    "            seen.add(key['type'])\n",
    "\n",
    "for items in total_sites:\n",
    "    for key in items:\n",
    "        if key['dinucleotide'] in pair:\n",
    "            outputs.append(key)\n",
    "outputs"
   ]
  },
  {
   "cell_type": "code",
   "execution_count": 437,
   "metadata": {},
   "outputs": [
    {
     "ename": "SyntaxError",
     "evalue": "EOF while scanning triple-quoted string literal (<ipython-input-437-3b631268fcf0>, line 7)",
     "output_type": "error",
     "traceback": [
      "\u001b[0;36m  File \u001b[0;32m\"<ipython-input-437-3b631268fcf0>\"\u001b[0;36m, line \u001b[0;32m7\u001b[0m\n\u001b[0;31m    ''''''\u001b[0m\n\u001b[0m          \n^\u001b[0m\n\u001b[0;31mSyntaxError\u001b[0m\u001b[0;31m:\u001b[0m EOF while scanning triple-quoted string literal\n"
     ]
    }
   ],
   "source": [
    "''''hetero=['phiC31','Bxb1']\n",
    "for output in outputs:\n",
    "    if output['recombinase'] in hetero:\n",
    "        ###\n",
    "        if output['type']\n",
    "    Filter  heterospecific/homospecific recombianses \n",
    "''''''"
   ]
  },
  {
   "cell_type": "code",
   "execution_count": 16,
   "metadata": {},
   "outputs": [
    {
     "name": "stdout",
     "output_type": "stream",
     "text": [
      "Searching for recombinase sites\n",
      "...............................\n",
      "...............................\n",
      "...............................\n",
      "Found matching pair of phiC31 sites at positions 5090 and 88:\n"
     ]
    }
   ],
   "source": [
    "def check_complementary_sites(input):\n",
    "    print('Searching for recombinase sites')\n",
    "    print('...............................')\n",
    "    print('...............................')\n",
    "    print('...............................')\n",
    "    permitted=['TT','AA', 'CT','GA', 'GT','AC','CA', 'CC','TC','GG']\n",
    "    outputs\n",
    "    paired_samples = {}\n",
    "    for nuc in permitted:\n",
    "        loop_list=[]\n",
    "        for output in outputs:\n",
    "            if output['dinucleotide']== nuc:\n",
    "                loop_list.append(output)\n",
    "                paired_samples['%s'% nuc]= loop_list\n",
    "\n",
    "    for items in paired_samples.values():\n",
    "        if items[0]['recombinase']==items[1]['recombinase']:\n",
    "            if (items[0]['type']=='attP' and items[1]['type']=='attB'): \n",
    "                print ('Found matching pair of %s sites at positions %s and %s:' % (items[0]['recombinase'], items[0]['position'],items[1]['position']))\n",
    "            elif (items[0]['type']=='attB' and items[0]['type']=='attB'): \n",
    "                print ('Found matching pair of %s sites at positions %s and %s:' % (items[0]['recombinase'], items[0]['position'],items[1]['position'])) \n",
    "            else:\n",
    "                print('No pairs found')\n",
    "            return paired_samples.values()\n",
    "        \n",
    "paired_samples=check_complementary_sites(outputs)\n"
   ]
  },
  {
   "cell_type": "code",
   "execution_count": null,
   "metadata": {
    "collapsed": true
   },
   "outputs": [],
   "source": [
    "######\n",
    "##Event trigger\n",
    "#####\n",
    "# \n",
    "## Is the event on a sinlge template? Multiple templates and are these \n",
    "type_of_reaction=raw_input('->How many DNA segments are involved?')\n",
    "template_type=raw_input('-> Are the DNA segments linear or cicular')\n",
    "\n",
    "####"
   ]
  },
  {
   "cell_type": "code",
   "execution_count": null,
   "metadata": {
    "collapsed": true
   },
   "outputs": [],
   "source": [
    "if templates are circular:\n",
    "    execute circular recombination \n",
    "else \n",
    " execute linear recombination"
   ]
  },
  {
   "cell_type": "code",
   "execution_count": 278,
   "metadata": {},
   "outputs": [
    {
     "data": {
      "text/plain": [
       "{}"
      ]
     },
     "execution_count": 278,
     "metadata": {},
     "output_type": "execute_result"
    }
   ],
   "source": [
    "def cicular recombination(input):\n",
    "    sequence"
   ]
  },
  {
   "cell_type": "code",
   "execution_count": 6,
   "metadata": {},
   "outputs": [
    {
     "ename": "SyntaxError",
     "evalue": "invalid syntax (<ipython-input-6-26dd80490400>, line 4)",
     "output_type": "error",
     "traceback": [
      "\u001b[0;36m  File \u001b[0;32m\"<ipython-input-6-26dd80490400>\"\u001b[0;36m, line \u001b[0;32m4\u001b[0m\n\u001b[0;31m    positions=items[0]['position'],items[1]['position']\u001b[0m\n\u001b[0m            ^\u001b[0m\n\u001b[0;31mSyntaxError\u001b[0m\u001b[0;31m:\u001b[0m invalid syntax\n"
     ]
    }
   ],
   "source": [
    "sequence= SeqIO.read('d091_mscapuro-attp.gb', \"genbank\")\n",
    "check_complementary_sites(detect_recombinase_sites(sequence)\n",
    "\n",
    "#positions=items[0]['position'],items[1]['position']\n",
    "\n",
    "locations = sorted(positions)"
   ]
  },
  {
   "cell_type": "code",
   "execution_count": 7,
   "metadata": {},
   "outputs": [
    {
     "ename": "NameError",
     "evalue": "name 'sequence' is not defined",
     "output_type": "error",
     "traceback": [
      "\u001b[0;31m---------------------------------------------------------------------------\u001b[0m",
      "\u001b[0;31mNameError\u001b[0m                                 Traceback (most recent call last)",
      "\u001b[0;32m<ipython-input-7-f694626fb934>\u001b[0m in \u001b[0;36m<module>\u001b[0;34m()\u001b[0m\n\u001b[1;32m      1\u001b[0m \u001b[0;34m\u001b[0m\u001b[0m\n\u001b[0;32m----> 2\u001b[0;31m \u001b[0msequence\u001b[0m\u001b[0;34m[\u001b[0m\u001b[0mlocations\u001b[0m\u001b[0;34m[\u001b[0m\u001b[0;36m0\u001b[0m\u001b[0;34m]\u001b[0m\u001b[0;34m:\u001b[0m\u001b[0mlocations\u001b[0m\u001b[0;34m[\u001b[0m\u001b[0;36m1\u001b[0m\u001b[0;34m]\u001b[0m\u001b[0;34m]\u001b[0m\u001b[0;34m\u001b[0m\u001b[0m\n\u001b[0m",
      "\u001b[0;31mNameError\u001b[0m: name 'sequence' is not defined"
     ]
    }
   ],
   "source": [
    "\n",
    "sequence[locations[0]:locations[1]]"
   ]
  },
  {
   "cell_type": "code",
   "execution_count": 34,
   "metadata": {},
   "outputs": [
    {
     "name": "stdout",
     "output_type": "stream",
     "text": [
      "GGTTACCCCAGTTGGGGCACTGACTGGATCTGATATCATCGTCGACATTGATTATTGACTAGTTATTAATAGTAATCAATTACGGGGTCATTAGTTCATAGCCCATATATGGAGTTCCGCGTTACATAACTTACGGTAAATGGCCCGCCTGGCTGACCGCCCAACGACCCCCGCCCATTGACGTCAATAATGACGTATGTTCCCATAGTAACGCCAATAGGGACTTTCCATTGACGTCAATGGGTGGACTATTTACGGTAAACTGCCCACTTGGCAGTACATCAAGTGTATCATATGCCAAGTACGCCCCCTATTGACGTCAATGACGGTAAATGGCCCGCCTGGCATTATGCCCAGTACATGACCTTATGGGACTTTCCTACTTGGCAGTACATCTACGTATTAGTCATCGCTATTACCATGGTCGAGGTGAGCCCCACGTTCTGCTTCACTCTCCCCATCTCCCCCCCCTCCCCACCCCCAATTTTGTATTTATTTATTTTTTAATTATTTTGTGCAGCGATGGGGGCGGGGGGGGGGGGGGCGCGCGCCAGGCGGGGCGGGGCGGGGCGAGGGGCGGGGCGGGGCGAGGCGGAGAGGTGCGGCGGCAGCCAATCAGAGCGGCGCGCTCCGAAAGTTTCCTTTTATGGCGAGGCGGCGGCGGCGGCGGCCCTATAAAAAGCGAAGCGCGCGGCGGGCGGGAGTCGCTGCGTTGGGACTTAGCCTTTAGTGAACCGTCAGAATTAATTCAGATCGATCTACCAGAACCGTCAGATCCGCTAGAGATTACGCCAACCGCCACCATGGGCAGCATGGTGAGCAAGGGCGAGGCAGTGATCAAGGAGTTCATGCGGTTCAAGGTGCACATGGAGGGCTCCATGAACGGCCACGAGTTCGAGATCGAGGGCGAGGGCGAGGGCCGCCCCTACGAGGGCACCCAGACCGCCAAGCTGAAGGTGACCAAGGGTGGCCCCCTGCCCTTCTCCTGGGACATCCTGTCCCCTCAGTTCATGTACGGCTCCAGGGCCTTCACCAAGCACCCCGCCGACATCCCCGACTACTATAAGCAGTCCTTCCCCGAGGGCTTCAAGTGGGAGCGCGTGATGAACTTCGAGGACGGCGGCGCCGTGACCGTGACCCAGGACACCTCCCTGGAGGACGGCACCCTGATCTACAAGGTGAAGCTCCGCGGCACCAACTTCCCTCCTGACGGCCCCGTAATGCAGAAGAAGACAATGGGCTGGGAAGCGTCCACCGAGCGGTTGTACCCCGAGGACGGCGTGCTGAAGGGCGACATTAAGATGGCCCTGCGCCTGAAGGACGGCGGCCGCTACCTGGCGGACTTCAAGACCACCTACAAGGCCAAGAAGCCCGTGCAGATGCCCGGCGCCTACAACGTCGACCGCAAGTTGGACATCACCTCCCACAACGAGGACTACACCGTGGTGGAACAGTACGAACGCTCCGAGGGCCGCCACTCCACCGGCGGCATGGACGAGCTGTACAAGTCCGGACTCAGATCTCGAGCTCAAGCTTCGAATTCTGCAGTCGACGGTACCGCGGGCCCGGGATCCACCGGATCTAGATCAGGCTAATAACAGCTTCCGGACTCTAGAACATCCCTACAGGTGATATCCTCGATCCCGCTCGATAAGCTTGATATCGAATTCCGCCCCTCTCCCTCCCCCCCCCCTAACGTTACTGGCCGAAGCCGCTTGGAATAAGGCCGGTGTGCGTTTGTCTATATGTTATTTTCCACCATATTGCCGTCTTTTGGCAATGTGAGGGCCCGGAAACCTGGCCCTGTCTTCTTGACGAGCATTCCTAGGGGTCTTTCCCCTCTCGCCAAAGGAATGCAAGGTCTGTTGAATGTCGTGAAGGAAGCAGTTCCTCTGGAAGCTTCTTGAAGACAAACAACGTCTGTAGCGACCCTTTGCAGGCAGCGGAACCCCCCACCTGGCGACAGGTGCCTCTGCGGCCAAAAGCCACGTGTATAAGATACACCTGCAAAGGCGGCACAACCCCAGTGCCACGTTGTGAGTTGGATAGTTGTGGAAAGAGTCAAATGGCTCTCCTCAAGCGTATTCAACAAGGGGCTGAAGGATGCCCAGAAGGTACCCCATTGTATGGGATCTGATCTGGGGCCTCGGTGCACATGCTTTACATGTGTTTAGTCGAGGTTAAAAAACGTCTAGGCCCCCCGAACCACGGGGACGTGGTTTTCCTTTGAAAAACACGATGATAATATGGCCACAACCGCGTTCCACCGAGTACAAGCCCACGGTGCGCCTCGCCACCCGCGACGACGTCCCCAGGGCCGTACGCACCCTCGCCGCCGCGTTCGCCGACTACCCCGCCACGCGCCACACCGTCGATCCGGACCGCCACATCGAGCGGGTCACCGAGCTGCAAGAACTCTTCCTCACGCGCGTCGGGCTCGACATCGGCAAGGTGTGGGTCGCGGACGACGGCGCCGCGGTGGCGGTCTGGACCACGCCGGAGAGCGTCGAAGCGGGGGCGGTGTTCGCCGAGATCGGCCCGCGCATGGCCGAGTTGAGCGGTTCCCGGCTGGCCGCGCAGCAACAGATGGAAGGCCTCCTGGCGCCGCACCGGCCCAAGGAGCCCGCGTGGTTCCTGGCCACCGTCGGCGTGTCGCCCGACCACCAGGGCAAGGGTCTGGGCAGCGCCGTCGTGCTCCCCGGAGTGGAGGCGGCCGAGCGCGCCGGGGTGCCCGCCTTCCTGGAAACCTCCGCGCCCCGCAACCTCCCCTTCTACGAGCGGCTCGGCTTCACCGTCACCGCCGACGTCGAGTGCCCGAAGGACCGCGCGACCTGGTGCATGACCCGCAAGCCCGGTGCCTAATAATGCTGAGGCTAACTGAAACACGGAAGGAGACAATACAGGAAGGAACGGTAACTTGTTTATTGCAGCTTATAATGGTTACAAATAAAGCAATAGCATCACAAATTTCACAAATAAAGCATTTTTTTCACTGCATTCTAGTTGTGGTTTGTCCAAACTCATCAATGTATCTTATCATGTCTGTCGTCTATGATGAGGATGTTGGTGGAGAGCATGTGGAGGAAGTGGATAGGGAAGGTTGTAGAGTAGATCCGGTTGAAGTGATGAGGATAGGAGGAGGTCACTAATGATGGGCGAAGTAATGATGGGCGCGTAATGATGGGCGTATTAATGATGGGCGTAGGTAATGATGGGCGAAGTAATGATGGGCGCGTAATGATGGGCGTATTAATGATGGGCGATGGTAATGATGGGCGAAGTAATGATGGGCGCGTAATGATGGGCGTATTAATGATGGGCGCATCGACATAATCCACCATCAACATGCAAGTCCAGTCAACAACTTTCCCTCAGACGTTAGTGGTAATCGAACCTCAACACCTAGCCCAGAACAAGCCTACAGAGGCGAAGGAACGACAACAAGAGCGGACAACACAGACACGAATCTTGTATTCAGTCTCGCACTTTAGACATGGTCTTCTGCTGCCCGTGGTCCTCTATTCGTCGGATGTTCTGTCGATTCTTCCTGTCTATCTGCACGCTACGCCCCCAACTGAGAGAACTCAAAGGTTACCCCAGTTGGGGCACTACACTGCACATATTGATCCTCGTCACAACCACACCAGCACACCTCAAATCCCACACCACTCCCACAATTACCATTCACTCAACAAACTCACACATCCCACGATAACGAATTCAAGCTTGATATCATTCAGGACGAGCCTCAGACTCCAGCGTAACTGGACTGCAATCAACTCACTGGCTCACCTTCACGGGTGGGCCTTTCTTCGGTAGAAAATCAAAGGATCTTCTTGAGATCCTTTTTTTCTGCGCGTAATCTGCTGCTTGCAAACAAAAAAACCACCGCTACCAGCGGTGGTTTGTTTGCCGGATCAAGAGCTACCAACTCTTTTTCCGAGGTAACTGGCTTCAGCAGAGCGCAGATACCAAATACTGTTCTTCTAGTGTAGCCGTAGTTAGGCCACCACTTCAAGAACTCTGTAGCACCGCCTACATACCTCGCTCTGCTAATCCTGTTACCAGTGGCTGCTGCCAGTGGCGATAAGTCGTGTCTTACCGGGTTGGACTCAAGACGATAGTTACCGGATAAGGCGCAGCGGTCGGGCTGAACGGGGGGTTCGTGCACACAGCCCAGCTTGGAGCGAACGACCTACACCGAACTGAGATACCTACAGCGTGAGCTATGAGAAAGCGCCACGCTTCCCGAAGGGAGAAAGGCGGACAGGTATCCGGTAAGCGGCAGGGTCGGAACAGGAGAGCGCACGAGGGAGCTTCCAGGGGGAAACGCCTGGTATCTTTATAGTCCTGTCGGGTTTCGCCACCTCTGACTTGAGCATCGATTTTTGTGATGCTCGTCAGGGGGGCGGAGCCTATGGAAAAACGCCAGCAACGCAGAAAGGCCCACCCGAAGGTGAGCCAGGTGATTACATTTGGGCCCTCATTACCAATGCTTAATCAGTGAGGCACCTATCTCAGCGATCTGTCTATTTCGTTCATCCATAGTTGCCTGACTCCCCGTCGTGTAGATAACTACGATGCGGGAGGGCTTACCATCTGGCCCCAGTGCTGCAATGATACCGCGAGAACCACGCTCACCGGCTCCAGATTTATCAGCAATAAACCAGCCAGCCGGGAGGGCCGAGCGCAGAAGTGATCCTGCAACTTTATCCGCCTCCATCCAGTCTATTAATTGTTGCCGGGAAGCTAGAGTAAGTAGTTCGCCAGTTAATAGTTTGCGCAACGTTGTTGCCATTGCTACAGGCATCGTGGTGTCACGCTCGTCGTTTGGTATGGCTTCATTCAGCTCCGGTTCCCAACGATCAAGGCGAGTTACATGATCCCCCATGTTGTGCAAAAAAGCGGTTAGCTCCTTCGGTCCTCCGATCGTTGCCAGAAGTAAGTTGGCCGCAGTGTTATCACTCATGGTTATGGCAGCACTGCATAATTCTCTTACTGT\n"
     ]
    }
   ],
   "source": [
    "print((sequence.seq[locations[0]:locations[1]]))"
   ]
  },
  {
   "cell_type": "code",
   "execution_count": 17,
   "metadata": {},
   "outputs": [
    {
     "data": {
      "text/plain": [
       "dict_values([[{'recombinase': 'phiC31', 'orientation': 'forward', 'position': 5090, 'dinucleotide': 'AA', 'type': 'attB'}, {'recombinase': 'phiC31', 'orientation': 'forward', 'position': 88, 'dinucleotide': 'AA', 'type': 'attP'}]])"
      ]
     },
     "execution_count": 17,
     "metadata": {},
     "output_type": "execute_result"
    }
   ],
   "source": [
    "paired_samples"
   ]
  },
  {
   "cell_type": "code",
   "execution_count": 23,
   "metadata": {},
   "outputs": [
    {
     "name": "stdout",
     "output_type": "stream",
     "text": [
      "forward\n",
      "forward\n"
     ]
    }
   ],
   "source": [
    "for element in paired_samples:\n",
    "    for key in element:\n",
    "        print(key['orientation'])"
   ]
  },
  {
   "cell_type": "code",
   "execution_count": 32,
   "metadata": {},
   "outputs": [],
   "source": [
    "def check_alignment(input):\n",
    "    orientation=[]\n",
    "    for element in paired_samples:\n",
    "        for key in element:\n",
    "            if key['orientation']==orientation:\n",
    "                return True\n",
    "            else:\n",
    "                #print('Inverted')\n",
    "                orientation=key['orientation']\n",
    "check=check_alignment(paired_samples)\n",
    "\n"
   ]
  },
  {
   "cell_type": "code",
   "execution_count": 33,
   "metadata": {},
   "outputs": [
    {
     "data": {
      "text/plain": [
       "True"
      ]
     },
     "execution_count": 33,
     "metadata": {},
     "output_type": "execute_result"
    }
   ],
   "source": [
    "if check == True:\n",
    "    remove_intervening_sequence\n",
    "else :\n",
    "    invert_intervening_sequence\n",
    "    "
   ]
  },
  {
   "cell_type": "code",
   "execution_count": null,
   "metadata": {
    "collapsed": true
   },
   "outputs": [],
   "source": [
    "def remove_intervening_sequence(manip_seq):\n",
    "    manip_seq=SeqIO.read(seq, \"genbank\")\n",
    "    positions=items[0]['position'],items[1]['position']\n"
   ]
  }
 ],
 "metadata": {
  "kernelspec": {
   "display_name": "Python 3",
   "language": "python",
   "name": "python3"
  },
  "language_info": {
   "codemirror_mode": {
    "name": "ipython",
    "version": 3
   },
   "file_extension": ".py",
   "mimetype": "text/x-python",
   "name": "python",
   "nbconvert_exporter": "python",
   "pygments_lexer": "ipython3",
   "version": "3.6.9"
  }
 },
 "nbformat": 4,
 "nbformat_minor": 2
}
